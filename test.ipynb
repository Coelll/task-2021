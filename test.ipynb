{
 "cells": [
  {
   "cell_type": "markdown",
   "id": "2b665226",
   "metadata": {},
   "source": [
    "    • sku_id – уникальный идентификатор товара\n",
    "    • price – цена, по которой был продан товар\n",
    "    • number – количество товаров (если не топливо), значит где 0 - топливо\n",
    "    • cheque_id – уникальный идентификатор чека\n",
    "    • litrs – количество литров (если товар - топливо)\n",
    "    • client_id – уникальный идентификатор клиента (если клиент «представился» при покупке)\n",
    "    • shop_id – уникальный идентификатор магазина\n",
    "    • date – дата транзакции\n",
    "    • full_name – полное наименование товара\n",
    "    • brand – наименование торговой марки\n",
    "    • sku_group – группа, к которой принадлежит товар\n",
    "    • OTM – признак собственной торговой марки\n",
    "    • units – единица измерения для количества \n",
    "    • country – страна производства товара"
   ]
  },
  {
   "cell_type": "code",
   "execution_count": 4,
   "id": "026a2643",
   "metadata": {},
   "outputs": [
    {
     "name": "stdout",
     "output_type": "stream",
     "text": [
      "Defaulting to user installation because normal site-packages is not writeable\n",
      "Requirement already satisfied: matplotlib in /home/coel/.local/lib/python3.9/site-packages (3.4.3)\n",
      "Collecting seaborn\n",
      "  Using cached seaborn-0.11.2-py3-none-any.whl (292 kB)\n",
      "Collecting tqdm\n",
      "  Downloading tqdm-4.62.3-py2.py3-none-any.whl (76 kB)\n",
      "     |████████████████████████████████| 76 kB 742 kB/s            \n",
      "\u001b[?25hRequirement already satisfied: python-dateutil>=2.7 in /usr/lib/python3.9/site-packages (from matplotlib) (2.8.2)\n",
      "Requirement already satisfied: kiwisolver>=1.0.1 in /home/coel/.local/lib/python3.9/site-packages (from matplotlib) (1.3.2)\n",
      "Requirement already satisfied: numpy>=1.16 in /home/coel/.local/lib/python3.9/site-packages (from matplotlib) (1.21.3)\n",
      "Requirement already satisfied: cycler>=0.10 in /home/coel/.local/lib/python3.9/site-packages (from matplotlib) (0.11.0)\n",
      "Requirement already satisfied: pyparsing>=2.2.1 in /usr/lib/python3.9/site-packages (from matplotlib) (2.4.7)\n",
      "Requirement already satisfied: pillow>=6.2.0 in /home/coel/.local/lib/python3.9/site-packages (from matplotlib) (8.4.0)\n",
      "Requirement already satisfied: six>=1.5 in /usr/lib/python3.9/site-packages (from python-dateutil>=2.7->matplotlib) (1.16.0)\n",
      "Collecting scipy>=1.0\n",
      "  Downloading scipy-1.7.2-cp39-cp39-manylinux_2_17_x86_64.manylinux2014_x86_64.whl (39.8 MB)\n",
      "     |████████████████████████████████| 39.8 MB 1.5 MB/s            \n",
      "\u001b[?25hRequirement already satisfied: pandas>=0.23 in /home/coel/.local/lib/python3.9/site-packages (from seaborn) (1.3.4)\n",
      "Requirement already satisfied: pytz>=2017.3 in /usr/lib/python3.9/site-packages (from pandas>=0.23->seaborn) (2021.1)\n",
      "Installing collected packages: scipy, tqdm, seaborn\n",
      "\u001b[33m  WARNING: The script tqdm is installed in '/home/coel/.local/bin' which is not on PATH.\n",
      "  Consider adding this directory to PATH or, if you prefer to suppress this warning, use --no-warn-script-location.\u001b[0m\n",
      "Successfully installed scipy-1.7.2 seaborn-0.11.2 tqdm-4.62.3\n",
      "Note: you may need to restart the kernel to use updated packages.\n"
     ]
    }
   ],
   "source": [
    "#pip install matplotlib seaborn tqdm"
   ]
  },
  {
   "cell_type": "code",
   "execution_count": 4,
   "id": "f13f5552",
   "metadata": {},
   "outputs": [],
   "source": [
    "import pandas as pd\n",
    "import numpy as np\n",
    "from matplotlib import pyplot as plt\n",
    "from matplotlib import dates as mdates\n",
    "import seaborn as sns\n",
    "import math, re, tqdm\n",
    "\n",
    "%matplotlib inline"
   ]
  },
  {
   "cell_type": "code",
   "execution_count": 5,
   "id": "60800f1d",
   "metadata": {},
   "outputs": [
    {
     "data": {
      "text/plain": [
       "sku_id             0\n",
       "price              0\n",
       "number             0\n",
       "cheque_id          0\n",
       "litrs              0\n",
       "client_id    3772355\n",
       "shop_id            0\n",
       "date               0\n",
       "dtype: int64"
      ]
     },
     "execution_count": 5,
     "metadata": {},
     "output_type": "execute_result"
    }
   ],
   "source": [
    "# Посмотрим на пропуски\n",
    "file = 'transactions.parquet'\n",
    "df_tran = pd.read_parquet(file, engine='pyarrow')\n",
    "df_tran.isnull().sum()\n",
    "#display(df_tran.dtypes)\n",
    "#df_tran.head(5)"
   ]
  },
  {
   "cell_type": "code",
   "execution_count": 6,
   "id": "3658f42f",
   "metadata": {},
   "outputs": [],
   "source": [
    "# Заменим nan на 0 для более удобного представления данных\n",
    "df_tran['client_id'] = df_tran['client_id'].fillna(0)"
   ]
  },
  {
   "cell_type": "code",
   "execution_count": 7,
   "id": "9da43661",
   "metadata": {},
   "outputs": [
    {
     "data": {
      "text/plain": [
       "sku_id       0\n",
       "price        0\n",
       "number       0\n",
       "cheque_id    0\n",
       "litrs        0\n",
       "client_id    0\n",
       "shop_id      0\n",
       "date         0\n",
       "dtype: int64"
      ]
     },
     "execution_count": 7,
     "metadata": {},
     "output_type": "execute_result"
    }
   ],
   "source": [
    "df_tran.isnull().sum()\n",
    "# Вот так симпатичнее."
   ]
  },
  {
   "cell_type": "code",
   "execution_count": 8,
   "id": "22471fb4",
   "metadata": {},
   "outputs": [
    {
     "data": {
      "text/plain": [
       "sku_id                int64\n",
       "price               float64\n",
       "number              float64\n",
       "cheque_id             int64\n",
       "litrs               float64\n",
       "client_id           float64\n",
       "shop_id               int64\n",
       "date         datetime64[ns]\n",
       "dtype: object"
      ]
     },
     "metadata": {},
     "output_type": "display_data"
    }
   ],
   "source": [
    "# client id во флоате, интересно. Поменяем на инт.\n",
    "display(df_tran.dtypes)"
   ]
  },
  {
   "cell_type": "code",
   "execution_count": 9,
   "id": "f3ddd4af",
   "metadata": {},
   "outputs": [
    {
     "data": {
      "text/html": [
       "<div>\n",
       "<style scoped>\n",
       "    .dataframe tbody tr th:only-of-type {\n",
       "        vertical-align: middle;\n",
       "    }\n",
       "\n",
       "    .dataframe tbody tr th {\n",
       "        vertical-align: top;\n",
       "    }\n",
       "\n",
       "    .dataframe thead th {\n",
       "        text-align: right;\n",
       "    }\n",
       "</style>\n",
       "<table border=\"1\" class=\"dataframe\">\n",
       "  <thead>\n",
       "    <tr style=\"text-align: right;\">\n",
       "      <th></th>\n",
       "      <th>sku_id</th>\n",
       "      <th>price</th>\n",
       "      <th>number</th>\n",
       "      <th>cheque_id</th>\n",
       "      <th>litrs</th>\n",
       "      <th>client_id</th>\n",
       "      <th>shop_id</th>\n",
       "      <th>date</th>\n",
       "    </tr>\n",
       "  </thead>\n",
       "  <tbody>\n",
       "    <tr>\n",
       "      <th>0</th>\n",
       "      <td>1158</td>\n",
       "      <td>0.002335</td>\n",
       "      <td>0.0</td>\n",
       "      <td>3338297</td>\n",
       "      <td>0.147929</td>\n",
       "      <td>78634</td>\n",
       "      <td>102</td>\n",
       "      <td>2171-07-23</td>\n",
       "    </tr>\n",
       "    <tr>\n",
       "      <th>1</th>\n",
       "      <td>1158</td>\n",
       "      <td>0.002317</td>\n",
       "      <td>0.0</td>\n",
       "      <td>3386107</td>\n",
       "      <td>0.134562</td>\n",
       "      <td>20900</td>\n",
       "      <td>101</td>\n",
       "      <td>2171-07-23</td>\n",
       "    </tr>\n",
       "  </tbody>\n",
       "</table>\n",
       "</div>"
      ],
      "text/plain": [
       "   sku_id     price  number  cheque_id     litrs  client_id  shop_id  \\\n",
       "0    1158  0.002335     0.0    3338297  0.147929      78634      102   \n",
       "1    1158  0.002317     0.0    3386107  0.134562      20900      101   \n",
       "\n",
       "        date  \n",
       "0 2171-07-23  \n",
       "1 2171-07-23  "
      ]
     },
     "execution_count": 9,
     "metadata": {},
     "output_type": "execute_result"
    }
   ],
   "source": [
    "# cid - ид клиента, если что\n",
    "# кастуем клаент ид в инт\n",
    "df_tran['client_id'] = df_tran['client_id'].astype(int)\n",
    "df_tran.head(2)"
   ]
  },
  {
   "cell_type": "code",
   "execution_count": 10,
   "id": "c26d5ee3",
   "metadata": {},
   "outputs": [
    {
     "name": "stdout",
     "output_type": "stream",
     "text": [
      "До: 7620119\n"
     ]
    }
   ],
   "source": [
    "# удаление похожих записей, если есть\n",
    "print(\"До: {}\".format(len(df_tran)))"
   ]
  },
  {
   "cell_type": "code",
   "execution_count": 11,
   "id": "42d7d437",
   "metadata": {},
   "outputs": [],
   "source": [
    "df_tran.drop_duplicates(subset=None, keep='first', inplace=True)"
   ]
  },
  {
   "cell_type": "code",
   "execution_count": 12,
   "id": "58155948",
   "metadata": {},
   "outputs": [
    {
     "name": "stdout",
     "output_type": "stream",
     "text": [
      "После: 6800919\n"
     ]
    }
   ],
   "source": [
    "print(\"После: {}\".format(len(df_tran)))"
   ]
  },
  {
   "cell_type": "code",
   "execution_count": 13,
   "id": "742f6f96",
   "metadata": {},
   "outputs": [
    {
     "data": {
      "text/html": [
       "<div>\n",
       "<style scoped>\n",
       "    .dataframe tbody tr th:only-of-type {\n",
       "        vertical-align: middle;\n",
       "    }\n",
       "\n",
       "    .dataframe tbody tr th {\n",
       "        vertical-align: top;\n",
       "    }\n",
       "\n",
       "    .dataframe thead th {\n",
       "        text-align: right;\n",
       "    }\n",
       "</style>\n",
       "<table border=\"1\" class=\"dataframe\">\n",
       "  <thead>\n",
       "    <tr style=\"text-align: right;\">\n",
       "      <th></th>\n",
       "      <th>sku_id</th>\n",
       "      <th>price</th>\n",
       "      <th>number</th>\n",
       "      <th>cheque_id</th>\n",
       "      <th>litrs</th>\n",
       "      <th>client_id</th>\n",
       "      <th>shop_id</th>\n",
       "      <th>date</th>\n",
       "    </tr>\n",
       "  </thead>\n",
       "  <tbody>\n",
       "    <tr>\n",
       "      <th>7620118</th>\n",
       "      <td>1158</td>\n",
       "      <td>0.002270</td>\n",
       "      <td>0.000000</td>\n",
       "      <td>1764664</td>\n",
       "      <td>0.159197</td>\n",
       "      <td>192548</td>\n",
       "      <td>77</td>\n",
       "      <td>2171-03-01</td>\n",
       "    </tr>\n",
       "    <tr>\n",
       "      <th>7585450</th>\n",
       "      <td>3324</td>\n",
       "      <td>0.006106</td>\n",
       "      <td>0.000452</td>\n",
       "      <td>2262585</td>\n",
       "      <td>0.104183</td>\n",
       "      <td>345359</td>\n",
       "      <td>96</td>\n",
       "      <td>2171-03-01</td>\n",
       "    </tr>\n",
       "  </tbody>\n",
       "</table>\n",
       "</div>"
      ],
      "text/plain": [
       "         sku_id     price    number  cheque_id     litrs  client_id  shop_id  \\\n",
       "7620118    1158  0.002270  0.000000    1764664  0.159197     192548       77   \n",
       "7585450    3324  0.006106  0.000452    2262585  0.104183     345359       96   \n",
       "\n",
       "              date  \n",
       "7620118 2171-03-01  \n",
       "7585450 2171-03-01  "
      ]
     },
     "execution_count": 13,
     "metadata": {},
     "output_type": "execute_result"
    }
   ],
   "source": [
    "# Сортировка по дате, ну и вообще в условии сказано про анализ покупок за 5 месяцев, \n",
    "# поэтому было бы хорошо ещё один collumn добавить\n",
    "df_tran = df_tran.sort_values(by='date')\n",
    "df_tran.head(2)"
   ]
  },
  {
   "cell_type": "code",
   "execution_count": 20,
   "id": "de1fca44",
   "metadata": {},
   "outputs": [
    {
     "data": {
      "text/html": [
       "<div>\n",
       "<style scoped>\n",
       "    .dataframe tbody tr th:only-of-type {\n",
       "        vertical-align: middle;\n",
       "    }\n",
       "\n",
       "    .dataframe tbody tr th {\n",
       "        vertical-align: top;\n",
       "    }\n",
       "\n",
       "    .dataframe thead th {\n",
       "        text-align: right;\n",
       "    }\n",
       "</style>\n",
       "<table border=\"1\" class=\"dataframe\">\n",
       "  <thead>\n",
       "    <tr style=\"text-align: right;\">\n",
       "      <th></th>\n",
       "      <th>sku_id</th>\n",
       "      <th>price</th>\n",
       "      <th>number</th>\n",
       "      <th>cheque_id</th>\n",
       "      <th>litrs</th>\n",
       "      <th>client_id</th>\n",
       "      <th>shop_id</th>\n",
       "      <th>date</th>\n",
       "      <th>month</th>\n",
       "    </tr>\n",
       "  </thead>\n",
       "  <tbody>\n",
       "    <tr>\n",
       "      <th>7620118</th>\n",
       "      <td>1158</td>\n",
       "      <td>0.002270</td>\n",
       "      <td>0.000000</td>\n",
       "      <td>1764664</td>\n",
       "      <td>0.159197</td>\n",
       "      <td>192548</td>\n",
       "      <td>77</td>\n",
       "      <td>2171-03-01</td>\n",
       "      <td>3</td>\n",
       "    </tr>\n",
       "    <tr>\n",
       "      <th>7585450</th>\n",
       "      <td>3324</td>\n",
       "      <td>0.006106</td>\n",
       "      <td>0.000452</td>\n",
       "      <td>2262585</td>\n",
       "      <td>0.104183</td>\n",
       "      <td>345359</td>\n",
       "      <td>96</td>\n",
       "      <td>2171-03-01</td>\n",
       "      <td>3</td>\n",
       "    </tr>\n",
       "  </tbody>\n",
       "</table>\n",
       "</div>"
      ],
      "text/plain": [
       "         sku_id     price    number  cheque_id     litrs  client_id  shop_id  \\\n",
       "7620118    1158  0.002270  0.000000    1764664  0.159197     192548       77   \n",
       "7585450    3324  0.006106  0.000452    2262585  0.104183     345359       96   \n",
       "\n",
       "              date  month  \n",
       "7620118 2171-03-01      3  \n",
       "7585450 2171-03-01      3  "
      ]
     },
     "execution_count": 20,
     "metadata": {},
     "output_type": "execute_result"
    }
   ],
   "source": [
    "# тот самый collumn\n",
    "df_tran['month'] = df_tran['date'].apply(lambda d: d.month)\n",
    "df_tran.head(2)"
   ]
  },
  {
   "cell_type": "code",
   "execution_count": 19,
   "id": "272bb09c",
   "metadata": {},
   "outputs": [
    {
     "data": {
      "text/plain": [
       "<AxesSubplot:xlabel='count', ylabel='month'>"
      ]
     },
     "execution_count": 19,
     "metadata": {},
     "output_type": "execute_result"
    },
    {
     "data": {
      "image/png": "[encoded data removed]",
      "text/plain": [
       "<Figure size 432x288 with 1 Axes>"
      ]
     },
     "metadata": {
      "needs_background": "light"
     },
     "output_type": "display_data"
    }
   ],
   "source": [
    "sns.countplot(data=df_tran, y='month', palette='rainbow')\n",
    "# отобразим данные на каунтплоте"
   ]
  },
  {
   "cell_type": "code",
   "execution_count": 21,
   "id": "96c9666a",
   "metadata": {},
   "outputs": [
    {
     "data": {
      "text/html": [
       "<div>\n",
       "<style scoped>\n",
       "    .dataframe tbody tr th:only-of-type {\n",
       "        vertical-align: middle;\n",
       "    }\n",
       "\n",
       "    .dataframe tbody tr th {\n",
       "        vertical-align: top;\n",
       "    }\n",
       "\n",
       "    .dataframe thead th {\n",
       "        text-align: right;\n",
       "    }\n",
       "</style>\n",
       "<table border=\"1\" class=\"dataframe\">\n",
       "  <thead>\n",
       "    <tr style=\"text-align: right;\">\n",
       "      <th></th>\n",
       "      <th>sku_id</th>\n",
       "      <th>full_name</th>\n",
       "      <th>brand</th>\n",
       "      <th>sku_group</th>\n",
       "      <th>OTM</th>\n",
       "      <th>units</th>\n",
       "      <th>country</th>\n",
       "    </tr>\n",
       "  </thead>\n",
       "  <tbody>\n",
       "    <tr>\n",
       "      <th>0</th>\n",
       "      <td>0</td>\n",
       "      <td>Масло Lubricrol Magnatec Diesel 10W-40 B4 1л</td>\n",
       "      <td>Lubricrol</td>\n",
       "      <td>Масла моторные (для варповых двигателей)</td>\n",
       "      <td>Нет</td>\n",
       "      <td>unknown</td>\n",
       "      <td>ГЕРМАНИЯ</td>\n",
       "    </tr>\n",
       "    <tr>\n",
       "      <th>1</th>\n",
       "      <td>723</td>\n",
       "      <td>Трос УранПРОМEthereum буксировочный 4500кг</td>\n",
       "      <td>УранПРОМEthereum</td>\n",
       "      <td>Автотовары</td>\n",
       "      <td>Да</td>\n",
       "      <td>шт</td>\n",
       "      <td>РОССИЯ</td>\n",
       "    </tr>\n",
       "  </tbody>\n",
       "</table>\n",
       "</div>"
      ],
      "text/plain": [
       "   sku_id                                     full_name             brand  \\\n",
       "0       0  Масло Lubricrol Magnatec Diesel 10W-40 B4 1л         Lubricrol   \n",
       "1     723    Трос УранПРОМEthereum буксировочный 4500кг  УранПРОМEthereum   \n",
       "\n",
       "                                  sku_group  OTM    units   country  \n",
       "0  Масла моторные (для варповых двигателей)  Нет  unknown  ГЕРМАНИЯ  \n",
       "1                                Автотовары   Да       шт    РОССИЯ  "
      ]
     },
     "execution_count": 21,
     "metadata": {},
     "output_type": "execute_result"
    }
   ],
   "source": [
    "file = 'nomenclature.parquet'\n",
    "df_nom = pd.read_parquet(file, engine='pyarrow')\n",
    "df_nom.head(2)"
   ]
  },
  {
   "cell_type": "code",
   "execution_count": 22,
   "id": "d4697ee4",
   "metadata": {},
   "outputs": [
    {
     "data": {
      "text/plain": [
       "sku_id       0\n",
       "full_name    9\n",
       "brand        9\n",
       "sku_group    0\n",
       "OTM          9\n",
       "units        9\n",
       "country      9\n",
       "dtype: int64"
      ]
     },
     "execution_count": 22,
     "metadata": {},
     "output_type": "execute_result"
    }
   ],
   "source": [
    "df_nom.isnull().sum()\n",
    "# Тоже самое что и пред.таблица, только ещё лучше"
   ]
  },
  {
   "cell_type": "code",
   "execution_count": null,
   "id": "f066df44",
   "metadata": {},
   "outputs": [],
   "source": [
    "# пустые значения\n",
    "holind = []\n",
    "# отобразим все не нулевые данные \n",
    "for col in df_nom.columns:\n",
    "    holind = [*holind, *df_nom[df_nom[col].isna()].index.values]\n",
    "    \n",
    "holind = list(set(holind))\n",
    "df_nom.head(2)"
   ]
  },
  {
   "cell_type": "code",
   "execution_count": null,
   "id": "ffea4366",
   "metadata": {},
   "outputs": [],
   "source": []
  }
 ],
 "metadata": {
  "kernelspec": {
   "display_name": "Python 3 (ipykernel)",
   "language": "python",
   "name": "python3"
  },
  "language_info": {
   "codemirror_mode": {
    "name": "ipython",
    "version": 3
   },
   "file_extension": ".py",
   "mimetype": "text/x-python",
   "name": "python",
   "nbconvert_exporter": "python",
   "pygments_lexer": "ipython3",
   "version": "3.9.7"
  }
 },
 "nbformat": 4,
 "nbformat_minor": 5
}
